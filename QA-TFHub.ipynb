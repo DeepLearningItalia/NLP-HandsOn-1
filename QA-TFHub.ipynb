{
 "cells": [
  {
   "cell_type": "markdown",
   "id": "c49d19a9-9dbb-4ee7-86b6-e496e5eed827",
   "metadata": {},
   "source": [
    "### TF HUB\n",
    "\n",
    "In questo notebook andremo ad esplorare un altro repository molto interessante per creare le nostre pipeline di NLP: Tensorflow HUB.\n",
    "Useremo sempre Q&A come esempio principale, ma ci accorgeremo che non sarà immediato come huggingface."
   ]
  },
  {
   "cell_type": "code",
   "execution_count": 1,
   "id": "f60c601a-3299-499b-893d-af830fbd51de",
   "metadata": {},
   "outputs": [
    {
     "data": {
      "text/plain": [
       "array([[0.40883988, 0.08877401]], dtype=float32)"
      ]
     },
     "execution_count": 1,
     "metadata": {},
     "output_type": "execute_result"
    }
   ],
   "source": [
    "import tensorflow as tf\n",
    "import tensorflow_hub as hub\n",
    "import numpy as np\n",
    "import tensorflow_text\n",
    "\n",
    "questions = [\"What is your age?\"]\n",
    "responses = [\"I am 20 years old.\", \"good morning\"]\n",
    "response_contexts = [\"I will be 21 next year.\", \"great day.\"]\n",
    "\n",
    "module = hub.load('https://tfhub.dev/google/universal-sentence-encoder-multilingual-qa/3')\n",
    "\n",
    "question_embeddings = module.signatures['question_encoder'](\n",
    "            tf.constant(questions))\n",
    "\n",
    "response_embeddings = module.signatures['response_encoder'](\n",
    "        input=tf.constant(responses),\n",
    "        context=tf.constant(response_contexts))\n",
    "\n",
    "np.inner(question_embeddings['outputs'], response_embeddings['outputs'])"
   ]
  },
  {
   "cell_type": "code",
   "execution_count": 6,
   "id": "b4030703-2dc2-46ca-81b6-8b1d521ee4ee",
   "metadata": {},
   "outputs": [],
   "source": [
    "import json"
   ]
  },
  {
   "cell_type": "code",
   "execution_count": 7,
   "id": "541b7d45-b38f-4b10-8a57-20fe1bb85b0e",
   "metadata": {},
   "outputs": [],
   "source": [
    "dev_set = json.load(open(\"./SQUAD/dev-v2.0.json\"))"
   ]
  },
  {
   "cell_type": "code",
   "execution_count": 10,
   "id": "40c0064f-fb2d-431e-b6c3-f2e355593e61",
   "metadata": {},
   "outputs": [],
   "source": [
    "dev_collection = []\n",
    "for passage in dev_set[\"data\"]:\n",
    "    for paragraph in passage[\"paragraphs\"]:\n",
    "        text = paragraph[\"context\"]\n",
    "        for qa in paragraph[\"qas\"]:\n",
    "            question = qa[\"question\"]\n",
    "            answers_list = []\n",
    "            for answer in qa[\"answers\"]:\n",
    "                ans = answer[\"text\"]\n",
    "                answers_list.append(ans)\n",
    "            dev_collection.append({\n",
    "                \"text\": text,\n",
    "                \"question\": question,\n",
    "                \"answers\": answers_list\n",
    "            })"
   ]
  },
  {
   "cell_type": "code",
   "execution_count": 11,
   "id": "6c470d8d-0b76-468f-ad2b-7d83ab36f2fb",
   "metadata": {},
   "outputs": [
    {
     "data": {
      "text/plain": [
       "{'text': 'The Normans (Norman: Nourmands; French: Normands; Latin: Normanni) were the people who in the 10th and 11th centuries gave their name to Normandy, a region in France. They were descended from Norse (\"Norman\" comes from \"Norseman\") raiders and pirates from Denmark, Iceland and Norway who, under their leader Rollo, agreed to swear fealty to King Charles III of West Francia. Through generations of assimilation and mixing with the native Frankish and Roman-Gaulish populations, their descendants would gradually merge with the Carolingian-based cultures of West Francia. The distinct cultural and ethnic identity of the Normans emerged initially in the first half of the 10th century, and it continued to evolve over the succeeding centuries.',\n",
       " 'question': 'In what country is Normandy located?',\n",
       " 'answers': ['France', 'France', 'France', 'France']}"
      ]
     },
     "execution_count": 11,
     "metadata": {},
     "output_type": "execute_result"
    }
   ],
   "source": [
    "dev_collection[0]"
   ]
  },
  {
   "cell_type": "markdown",
   "id": "ee5d7982-3125-46ab-98db-cc8ef84ac4f4",
   "metadata": {},
   "source": [
    "### Spacy\n",
    "\n",
    "Spacy è una libreria estremamente utile, production ready, che raccoglie moltissime delle operazioni di NLP e le mette a disposizione dell'utente con un'interfaccia facile ed inuitiva, aiutandoci non solo durante la fase di protyping ma anche durante la messa in produzione dei nostri modelli."
   ]
  },
  {
   "cell_type": "code",
   "execution_count": 17,
   "id": "e12abd51-f8dc-4da4-9b0c-2c94b3af8425",
   "metadata": {},
   "outputs": [
    {
     "data": {
      "text/plain": [
       "<spacy.pipeline.sentencizer.Sentencizer at 0x7f13873bb9c0>"
      ]
     },
     "execution_count": 17,
     "metadata": {},
     "output_type": "execute_result"
    }
   ],
   "source": [
    "from spacy.lang.en import English\n",
    "\n",
    "nlp = English()\n",
    "nlp.add_pipe(\"sentencizer\")"
   ]
  },
  {
   "cell_type": "code",
   "execution_count": 40,
   "id": "ab0b6f09-9b4c-4ab4-88f3-4b9c04f9181b",
   "metadata": {},
   "outputs": [],
   "source": [
    "doc = nlp(dev_collection[0][\"text\"])\n",
    "candidate_answers = []\n",
    "for sentence in doc.sents:\n",
    "    for sentence_piece in sentence.text.split(\",\"):\n",
    "        candidate_answers.append(sentence_piece)"
   ]
  },
  {
   "cell_type": "code",
   "execution_count": 41,
   "id": "b45a7f44-fb09-431c-b8a3-926efadc6ba1",
   "metadata": {},
   "outputs": [
    {
     "name": "stdout",
     "output_type": "stream",
     "text": [
      "(1, 10)\n"
     ]
    },
    {
     "data": {
      "text/plain": [
       "array([[0.5253961 , 0.4790218 , 0.38074923, 0.43492612, 0.2225343 ,\n",
       "        0.19773774, 0.2120413 , 0.20404881, 0.27391946, 0.16583326]],\n",
       "      dtype=float32)"
      ]
     },
     "execution_count": 41,
     "metadata": {},
     "output_type": "execute_result"
    }
   ],
   "source": [
    "questions = [dev_collection[0][\"question\"]]\n",
    "responses = candidate_answers[:]\n",
    "response_contexts = [dev_collection[0][\"text\"] for _ in responses]\n",
    "\n",
    "question_embeddings = module.signatures['question_encoder'](\n",
    "            tf.constant(questions))\n",
    "response_embeddings = module.signatures['response_encoder'](\n",
    "        input=tf.constant(responses),\n",
    "        context=tf.constant(response_contexts))\n",
    "\n",
    "response = np.inner(question_embeddings['outputs'], response_embeddings['outputs'])\n",
    "print(response.shape)\n",
    "response"
   ]
  },
  {
   "cell_type": "code",
   "execution_count": 42,
   "id": "b2ae3d62-20c6-49ba-8559-ff752224e21a",
   "metadata": {},
   "outputs": [
    {
     "name": "stdout",
     "output_type": "stream",
     "text": [
      "0 The Normans (Norman: Nourmands; French: Normands; Latin: Normanni) were the people who in the 10th and 11th centuries gave their name to Normandy\n",
      "1  a region in France.\n",
      "3  Iceland and Norway who\n"
     ]
    }
   ],
   "source": [
    "# Guardiamo alle top 3 responses\n",
    "for arg_idx in np.argsort(-response[0])[:3]:\n",
    "    print(arg_idx, responses[arg_idx])"
   ]
  },
  {
   "cell_type": "code",
   "execution_count": 38,
   "id": "6572e8b7-b071-47c4-8251-53830561297e",
   "metadata": {},
   "outputs": [
    {
     "name": "stderr",
     "output_type": "stream",
     "text": [
      "100%|██████████| 11873/11873 [12:41<00:00, 15.59it/s]"
     ]
    },
    {
     "name": "stdout",
     "output_type": "stream",
     "text": [
      "Exact Match score: 0.0015160448075465342\n",
      "Soft Match score: 0.8888233807799208\n"
     ]
    },
    {
     "name": "stderr",
     "output_type": "stream",
     "text": [
      "\n"
     ]
    }
   ],
   "source": [
    "from tqdm import tqdm\n",
    "\n",
    "exact_match = 0\n",
    "soft_match = 0\n",
    "for dev_qa in tqdm(dev_collection):\n",
    "    candidate_answers = []\n",
    "    doc = nlp(dev_qa[\"text\"])\n",
    "    \n",
    "    for sentence in doc.sents:\n",
    "        for sentence_piece in sentence.text.split(\",\"):\n",
    "            candidate_answers.append(sentence_piece)\n",
    "            \n",
    "    questions = [dev_qa[\"question\"]]\n",
    "\n",
    "    response_contexts = [dev_qa[\"text\"] for _ in candidate_answers]\n",
    "    \n",
    "\n",
    "    question_embeddings = module.signatures['question_encoder'](\n",
    "                tf.constant(questions))\n",
    "    \n",
    "    response_embeddings = module.signatures['response_encoder'](\n",
    "            input=tf.constant(candidate_answers),\n",
    "            context=tf.constant(response_contexts))\n",
    "    \n",
    "    response = np.inner(question_embeddings['outputs'], response_embeddings['outputs'])\n",
    "    \n",
    "    # Guardiamo la top answer\n",
    "    top_answer = candidate_answers[ np.argsort(response[0])[-1] ]\n",
    "    \n",
    "    if top_answer in dev_qa[\"answers\"]:\n",
    "        exact_match += 1\n",
    "    for ans in dev_qa[\"answers\"]:\n",
    "        if ans in top_answer or top_answer in ans:\n",
    "            soft_match += 1\n",
    "\n",
    "print(f\"Exact Match score: {exact_match / len(dev_collection)}\")  \n",
    "print(f\"Soft Match score: {soft_match / len(dev_collection)}\") "
   ]
  },
  {
   "cell_type": "code",
   "execution_count": null,
   "id": "9a2e079a-ff76-4aae-890a-c0d62413e86a",
   "metadata": {},
   "outputs": [],
   "source": []
  },
  {
   "cell_type": "code",
   "execution_count": null,
   "id": "2afe999f-65fc-451f-be83-3b7365bb7df8",
   "metadata": {},
   "outputs": [],
   "source": []
  },
  {
   "cell_type": "code",
   "execution_count": null,
   "id": "71444a38-108e-4f78-bef5-f2288212e2e7",
   "metadata": {},
   "outputs": [],
   "source": []
  }
 ],
 "metadata": {
  "kernelspec": {
   "display_name": "Python 3",
   "language": "python",
   "name": "python3"
  },
  "language_info": {
   "codemirror_mode": {
    "name": "ipython",
    "version": 3
   },
   "file_extension": ".py",
   "mimetype": "text/x-python",
   "name": "python",
   "nbconvert_exporter": "python",
   "pygments_lexer": "ipython3",
   "version": "3.8.10"
  }
 },
 "nbformat": 4,
 "nbformat_minor": 5
}
